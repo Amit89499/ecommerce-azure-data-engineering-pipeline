{
 "cells": [
  {
   "cell_type": "code",
   "execution_count": 0,
   "metadata": {
    "application/vnd.databricks.v1+cell": {
     "cellMetadata": {
      "byteLimit": 2048000,
      "rowLimit": 10000
     },
     "inputWidgets": {},
     "nuid": "d5df7b55-0bd3-4559-baad-6e518148ab42",
     "showTitle": false,
     "title": ""
    }
   },
   "outputs": [],
   "source": [
    "from pyspark.sql.functions import *\n",
    "from pyspark.sql import SparkSession\n",
    "from pyspark.sql.types import *"
   ]
  },
  {
   "cell_type": "code",
   "execution_count": 0,
   "metadata": {
    "application/vnd.databricks.v1+cell": {
     "cellMetadata": {
      "byteLimit": 2048000,
      "rowLimit": 10000
     },
     "inputWidgets": {},
     "nuid": "737143fa-13af-48a8-b920-c8e42f1fd7af",
     "showTitle": false,
     "title": ""
    }
   },
   "outputs": [
    {
     "output_type": "execute_result",
     "data": {
      "text/html": [
       "\n",
       "            <div>\n",
       "                <p><b>SparkSession - hive</b></p>\n",
       "                \n",
       "        <div>\n",
       "            <p><b>SparkContext</b></p>\n",
       "\n",
       "            <p><a href=\"/?o=1421716318482512#setting/sparkui/0910-163939-r3w1gqhy/driver-1205863386654699224\">Spark UI</a></p>\n",
       "\n",
       "            <dl>\n",
       "              <dt>Version</dt>\n",
       "                <dd><code>v3.5.0</code></dd>\n",
       "              <dt>Master</dt>\n",
       "                <dd><code>local[*, 4]</code></dd>\n",
       "              <dt>AppName</dt>\n",
       "                <dd><code>Databricks Shell</code></dd>\n",
       "            </dl>\n",
       "        </div>\n",
       "        \n",
       "            </div>\n",
       "        "
      ],
      "text/plain": [
       "<pyspark.sql.session.SparkSession at 0x7fc50b262010>"
      ]
     },
     "execution_count": 2,
     "metadata": {},
     "output_type": "execute_result"
    }
   ],
   "source": [
    "spark = SparkSession.builder.appName(\"ecom-data-pipeline\").getOrCreate()\n",
    "spark"
   ]
  },
  {
   "cell_type": "code",
   "execution_count": 0,
   "metadata": {
    "application/vnd.databricks.v1+cell": {
     "cellMetadata": {
      "byteLimit": 2048000,
      "rowLimit": 10000
     },
     "inputWidgets": {},
     "nuid": "b5c92919-f197-4840-9df6-e631e61c8b6a",
     "showTitle": false,
     "title": ""
    }
   },
   "outputs": [],
   "source": [
    "userDf = spark.read.format(\"delta\").load(\"/mnt/delta/tables/bronze/users\")"
   ]
  },
  {
   "cell_type": "code",
   "execution_count": 0,
   "metadata": {
    "application/vnd.databricks.v1+cell": {
     "cellMetadata": {
      "byteLimit": 2048000,
      "rowLimit": 10000
     },
     "inputWidgets": {},
     "nuid": "649cbd96-8f4b-4f11-a781-5f435ea260d4",
     "showTitle": false,
     "title": ""
    }
   },
   "outputs": [],
   "source": [
    "userDf = userDf.withColumn(\"countrycode\",upper(col(\"countrycode\")))"
   ]
  },
  {
   "cell_type": "code",
   "execution_count": 0,
   "metadata": {
    "application/vnd.databricks.v1+cell": {
     "cellMetadata": {
      "byteLimit": 2048000,
      "rowLimit": 10000
     },
     "inputWidgets": {},
     "nuid": "28c88e33-7b75-4940-97d5-d588c0750942",
     "showTitle": false,
     "title": ""
    }
   },
   "outputs": [
    {
     "output_type": "stream",
     "name": "stdout",
     "output_type": "stream",
     "text": [
      "+-----------+\n|countrycode|\n+-----------+\n|         US|\n|         DE|\n|         SE|\n|         TR|\n|         FR|\n+-----------+\nonly showing top 5 rows\n\n"
     ]
    }
   ],
   "source": [
    "userDf.select(col(\"countrycode\")).show(5)"
   ]
  },
  {
   "cell_type": "code",
   "execution_count": 0,
   "metadata": {
    "application/vnd.databricks.v1+cell": {
     "cellMetadata": {
      "byteLimit": 2048000,
      "rowLimit": 10000
     },
     "inputWidgets": {},
     "nuid": "4aed44b6-afd5-4263-8d2c-f37e06e0b419",
     "showTitle": false,
     "title": ""
    }
   },
   "outputs": [],
   "source": [
    "userDf = userDf.withColumn(\"language_full\",\n",
    "                           expr(\"CASE WHEN language = 'EN' THEN 'English'\" + \"WHEN language='FR' THEN 'French'\" + \"ELSE 'Other' END\")\n",
    "                           )"
   ]
  },
  {
   "cell_type": "code",
   "execution_count": 0,
   "metadata": {
    "application/vnd.databricks.v1+cell": {
     "cellMetadata": {
      "byteLimit": 2048000,
      "rowLimit": 10000
     },
     "inputWidgets": {},
     "nuid": "4f13b970-4c22-4d10-ab39-7c3cb2590c77",
     "showTitle": false,
     "title": ""
    }
   },
   "outputs": [],
   "source": [
    "userDf = userDf.withColumn(\"gender\",\n",
    "                           when(col(\"gender\").startswith(\"M\"), \"Male\")\n",
    "                           .when(col(\"gender\").startswith(\"F\"), \"Female\")\n",
    "                           .otherwise(\"Other\")\n",
    "                           )"
   ]
  },
  {
   "cell_type": "code",
   "execution_count": 0,
   "metadata": {
    "application/vnd.databricks.v1+cell": {
     "cellMetadata": {
      "byteLimit": 2048000,
      "rowLimit": 10000
     },
     "inputWidgets": {},
     "nuid": "a6d2cf5c-6cff-4062-baa0-0382845ee455",
     "showTitle": false,
     "title": ""
    }
   },
   "outputs": [],
   "source": [
    "userDf = userDf.withColumn(\"civilitytitle_clean\",\n",
    "                           regexp_replace(col(\"civilitytitle\"), \"(Mme|Ms|Mrs)\", \"Ms\")\n",
    "                           )"
   ]
  },
  {
   "cell_type": "code",
   "execution_count": 0,
   "metadata": {
    "application/vnd.databricks.v1+cell": {
     "cellMetadata": {
      "byteLimit": 2048000,
      "rowLimit": 10000
     },
     "inputWidgets": {},
     "nuid": "e4383a39-5a2d-4356-8d17-a95fd86955b5",
     "showTitle": false,
     "title": ""
    }
   },
   "outputs": [],
   "source": [
    "# userDf = userDf.withColumn(\"\")\n",
    "userDf = userDf.withColumn(\"years_since_last_login\",col(\"dayssincelastlogin\")/365)"
   ]
  },
  {
   "cell_type": "code",
   "execution_count": 0,
   "metadata": {
    "application/vnd.databricks.v1+cell": {
     "cellMetadata": {
      "byteLimit": 2048000,
      "rowLimit": 10000
     },
     "inputWidgets": {},
     "nuid": "98e89dc8-40e9-446b-8b9a-6e194f425941",
     "showTitle": false,
     "title": ""
    }
   },
   "outputs": [],
   "source": [
    "# Calculate age of account in years and categorize into 'account_age_group'\n",
    "userDf = userDf.withColumn(\"account_age_years\",round(col(\"seniority\")/365,2))\n",
    "userDf = userDf.withColumn(\"account_age_group\", when(col(\"account_age_years\") < 1, \"New\")\n",
    "                           .when((col(\"account_age_years\") >= 1) & (col(\"account_age_years\") <3), \"Intermediate\")\n",
    "                           .otherwise(\"Experienced\")\n",
    "                           )"
   ]
  },
  {
   "cell_type": "code",
   "execution_count": 0,
   "metadata": {
    "application/vnd.databricks.v1+cell": {
     "cellMetadata": {
      "byteLimit": 2048000,
      "rowLimit": 10000
     },
     "inputWidgets": {},
     "nuid": "1be276b1-44c7-45bb-933c-9408722b98ae",
     "showTitle": false,
     "title": ""
    }
   },
   "outputs": [],
   "source": [
    "userDf = userDf.withColumn(\"current_year\",year(current_date()))"
   ]
  },
  {
   "cell_type": "code",
   "execution_count": 0,
   "metadata": {
    "application/vnd.databricks.v1+cell": {
     "cellMetadata": {
      "byteLimit": 2048000,
      "rowLimit": 10000
     },
     "inputWidgets": {},
     "nuid": "c8b569aa-4eb2-4598-9aa9-fb12875ec342",
     "showTitle": false,
     "title": ""
    }
   },
   "outputs": [],
   "source": [
    "userDf = userDf.withColumn(\"user_descriptor\",\n",
    "                           concat(col(\"gender\"),lit(\"_\"),col(\"countrycode\"),lit(\"_\"),\n",
    "                                  expr(\"substring(civilitytitle_clean,1,3)\"),lit(\"_\"),\n",
    "                                  col(\"language_full\")\n",
    "                                  )\n",
    "                           )"
   ]
  },
  {
   "cell_type": "code",
   "execution_count": 0,
   "metadata": {
    "application/vnd.databricks.v1+cell": {
     "cellMetadata": {
      "byteLimit": 2048000,
      "rowLimit": 10000
     },
     "inputWidgets": {},
     "nuid": "a562b4b0-794e-4d4c-886d-59723399dd85",
     "showTitle": false,
     "title": ""
    }
   },
   "outputs": [
    {
     "output_type": "stream",
     "name": "stdout",
     "output_type": "stream",
     "text": [
      "+-------------------+\n|    user_descriptor|\n+-------------------+\n|Female_US_mrs_Other|\n|Female_DE_mrs_Other|\n|   Male_SE_mr_Other|\n|Female_TR_mrs_Other|\n|   Male_FR_mr_Other|\n+-------------------+\nonly showing top 5 rows\n\n"
     ]
    }
   ],
   "source": [
    "userDf.select(col(\"user_descriptor\")).show(5)"
   ]
  },
  {
   "cell_type": "code",
   "execution_count": 0,
   "metadata": {
    "application/vnd.databricks.v1+cell": {
     "cellMetadata": {
      "byteLimit": 2048000,
      "rowLimit": 10000
     },
     "inputWidgets": {},
     "nuid": "bada6493-d019-4763-a4de-9de37b732c78",
     "showTitle": false,
     "title": ""
    }
   },
   "outputs": [],
   "source": [
    "userDf = userDf.withColumn(\"flag_long_title\",length(col(\"civilitytitle\"))>10)"
   ]
  },
  {
   "cell_type": "code",
   "execution_count": 0,
   "metadata": {
    "application/vnd.databricks.v1+cell": {
     "cellMetadata": {
      "byteLimit": 2048000,
      "rowLimit": 10000
     },
     "inputWidgets": {},
     "nuid": "0d9c46b7-ae4f-4241-9917-7188f3804241",
     "showTitle": false,
     "title": ""
    }
   },
   "outputs": [],
   "source": [
    "userDf = userDf.withColumn(\"hasanyapp\",col(\"hasanyapp\").cast(\"boolean\"))\n",
    "userDf = userDf.withColumn(\"hasandroidapp\",col(\"hasandroidapp\").cast(\"boolean\"))\n",
    "userDf = userDf.withColumn(\"hasiosapp\",col(\"hasiosapp\").cast(\"boolean\"))\n",
    "userDf = userDf.withColumn(\"hasprofilepicture\",col(\"hasprofilepicture\").cast(\"boolean\"))\n",
    "userDf = userDf.withColumn(\"socialnbfollowers\",col(\"socialnbfollowers\").cast(IntegerType()))\n",
    "userDf = userDf.withColumn(\"socialnbfollows\",col(\"socialnbfollows\").cast(IntegerType()))\n",
    "userDf = userDf.withColumn(\"productspassrate\",col(\"productspassrate\").cast(DecimalType(10,2)))\n",
    "userDf = userDf.withColumn(\"seniorityAsMonths\",col(\"seniorityAsMonths\").cast(DecimalType(10,2)))\n",
    "userDf = userDf.withColumn(\"seniorityAsYears\",col(\"seniorityAsYears\").cast(DecimalType(10,2)))"
   ]
  },
  {
   "cell_type": "code",
   "execution_count": 0,
   "metadata": {
    "application/vnd.databricks.v1+cell": {
     "cellMetadata": {
      "byteLimit": 2048000,
      "rowLimit": 10000
     },
     "inputWidgets": {},
     "nuid": "c2101403-bf3c-41a8-9b24-a4fcf260b950",
     "showTitle": false,
     "title": ""
    }
   },
   "outputs": [],
   "source": [
    "userDf.write.format(\"delta\").mode(\"overwrite\").save(\"/mnt/delta/tables/silver/users\")"
   ]
  },
  {
   "cell_type": "code",
   "execution_count": 0,
   "metadata": {
    "application/vnd.databricks.v1+cell": {
     "cellMetadata": {
      "byteLimit": 2048000,
      "rowLimit": 10000
     },
     "inputWidgets": {},
     "nuid": "dfb085db-8707-49b6-bcc8-04a041ef4c63",
     "showTitle": false,
     "title": ""
    }
   },
   "outputs": [],
   "source": [
    "##Buyers\n",
    "\n",
    "buyersDf = spark.read.format(\"delta\").load(\"/mnt/delta/tables/bronze/buyers\")"
   ]
  },
  {
   "cell_type": "code",
   "execution_count": 0,
   "metadata": {
    "application/vnd.databricks.v1+cell": {
     "cellMetadata": {
      "byteLimit": 2048000,
      "rowLimit": 10000
     },
     "inputWidgets": {},
     "nuid": "4914d1d3-f090-4809-bb4f-70024a9d5d61",
     "showTitle": false,
     "title": ""
    }
   },
   "outputs": [],
   "source": [
    "integer_columns = [\n",
    "    \"buyers\", \"topbuyers\", \"femalebuyers\", \"malebuyers\", \n",
    "    \"topfemalebuyers\", \"topmalebuyers\", \"totalproductsbought\", \n",
    "    \"totalproductswished\", \"totalproductsliked\", \n",
    "    \"toptotalproductsbought\", \"toptotalproductswished\", \n",
    "    \"toptotalproductsliked\"\n",
    "]\n",
    "\n",
    "for column_name in integer_columns: \n",
    "    buyersDf = buyersDf.withColumn(column_name, col(column_name).cast(IntegerType()))"
   ]
  },
  {
   "cell_type": "code",
   "execution_count": 0,
   "metadata": {
    "application/vnd.databricks.v1+cell": {
     "cellMetadata": {
      "byteLimit": 2048000,
      "rowLimit": 10000
     },
     "inputWidgets": {},
     "nuid": "2ab0706f-f55b-49cb-98f8-7cf7322d6235",
     "showTitle": false,
     "title": ""
    }
   },
   "outputs": [],
   "source": [
    "decimal_columns = [\n",
    "    \"topbuyerratio\", \"femalebuyersratio\", \"topfemalebuyersratio\", \n",
    "    \"boughtperwishlistratio\", \"boughtperlikeratio\", \n",
    "    \"topboughtperwishlistratio\", \"topboughtperlikeratio\", \n",
    "    \"meanproductsbought\", \"meanproductswished\", \n",
    "    \"meanproductsliked\", \"topmeanproductsbought\", \n",
    "    \"topmeanproductswished\", \"topmeanproductsliked\", \n",
    "    \"meanofflinedays\", \"topmeanofflinedays\", \n",
    "    \"meanfollowers\", \"meanfollowing\", \n",
    "    \"topmeanfollowers\", \"topmeanfollowing\"\n",
    "]\n",
    "\n",
    "for column_name in decimal_columns:\n",
    "    buyersDf = buyersDf.withColumn(column_name, col(column_name).cast(DecimalType(10, 2)))\n"
   ]
  },
  {
   "cell_type": "code",
   "execution_count": 0,
   "metadata": {
    "application/vnd.databricks.v1+cell": {
     "cellMetadata": {
      "byteLimit": 2048000,
      "rowLimit": 10000
     },
     "inputWidgets": {},
     "nuid": "4efc26f8-a27a-4e4e-9217-1d28d3dbc0c6",
     "showTitle": false,
     "title": ""
    }
   },
   "outputs": [],
   "source": [
    "# Normalize country names\n",
    "buyersDf = buyersDf.withColumn(\"country\",initcap(col(\"country\")))\n",
    "for col_name in integer_columns:\n",
    "    buyersDf = buyersDf.fillna(0, [col_name])\n"
   ]
  },
  {
   "cell_type": "code",
   "execution_count": 0,
   "metadata": {
    "application/vnd.databricks.v1+cell": {
     "cellMetadata": {
      "byteLimit": 2048000,
      "rowLimit": 10000
     },
     "inputWidgets": {},
     "nuid": "fc7cd668-5c70-4c12-8cd8-b79cd837226b",
     "showTitle": false,
     "title": ""
    }
   },
   "outputs": [],
   "source": [
    "# calculate the ration of female to male buyers\n",
    "buyersDf = buyersDf.withColumn(\"female_to_male_ratio\",round(col(\"femalebuyers\")/(col(\"malebuyers\")+1),2))\n",
    "\n",
    "# determine the market potential by comparing wishlist and purchases\n",
    "buyersDf = buyersDf.withColumn(\"wishlist_to_purchase_ratio\",round(col(\"totalproductswished\") / (col(\"totalproductsbought\") + 1), 2))\n",
    "\n",
    "\n",
    "# Tag countries with a high enagagement ratio\n",
    "high_engagement_thresold = 0.5\n",
    "buyersDf = buyersDf.withColumn(\"high_engagement\",\n",
    "                               when(col(\"boughtperwishlistratio\") > high_engagement_thresold,True))\n",
    "\n",
    "buyersDf = buyersDf.withColumn(\"growing_female_market\",\n",
    "                               when(col(\"femalebuyersratio\") > col(\"topfemalebuyersratio\"),True).otherwise(False)\n",
    "                               )"
   ]
  },
  {
   "cell_type": "code",
   "execution_count": 0,
   "metadata": {
    "application/vnd.databricks.v1+cell": {
     "cellMetadata": {
      "byteLimit": 2048000,
      "rowLimit": 10000
     },
     "inputWidgets": {},
     "nuid": "ba46cec9-f60c-4612-a627-11c33adbfbb5",
     "showTitle": false,
     "title": ""
    }
   },
   "outputs": [],
   "source": [
    "buyersDf.write.format(\"delta\").mode(\"overwrite\").save(\"/mnt/delta/tables/silver/buyers\")"
   ]
  },
  {
   "cell_type": "code",
   "execution_count": 0,
   "metadata": {
    "application/vnd.databricks.v1+cell": {
     "cellMetadata": {
      "byteLimit": 2048000,
      "rowLimit": 10000
     },
     "inputWidgets": {},
     "nuid": "154b6d75-362e-4a0e-86cc-d10ac1adbc1b",
     "showTitle": false,
     "title": ""
    }
   },
   "outputs": [],
   "source": [
    "# Sellers\n",
    "sellersDf = spark.read.format(\"delta\").load(\"/mnt/delta/tables/bronze/sellers\")\n"
   ]
  },
  {
   "cell_type": "code",
   "execution_count": 0,
   "metadata": {
    "application/vnd.databricks.v1+cell": {
     "cellMetadata": {
      "byteLimit": 2048000,
      "rowLimit": 10000
     },
     "inputWidgets": {},
     "nuid": "2b45a1c0-fbac-4755-ad27-68d9d41fd506",
     "showTitle": false,
     "title": ""
    }
   },
   "outputs": [
    {
     "output_type": "stream",
     "name": "stdout",
     "output_type": "stream",
     "text": [
      "root\n |-- country: string (nullable = true)\n |-- sex: string (nullable = true)\n |-- nbsellers: integer (nullable = true)\n |-- meanproductssold: decimal(10,2) (nullable = true)\n |-- meanproductslisted: decimal(10,2) (nullable = true)\n |-- meansellerpassrate: decimal(10,2) (nullable = true)\n |-- totalproductssold: integer (nullable = true)\n |-- totalproductslisted: integer (nullable = true)\n |-- meanproductsbought: decimal(10,2) (nullable = true)\n |-- meanproductswished: decimal(10,2) (nullable = true)\n |-- meanproductsliked: decimal(10,2) (nullable = true)\n |-- totalbought: integer (nullable = true)\n |-- totalwished: integer (nullable = true)\n |-- totalproductsliked: integer (nullable = true)\n |-- meanfollowers: decimal(10,2) (nullable = true)\n |-- meanfollows: decimal(10,2) (nullable = true)\n |-- percentofappusers: decimal(10,2) (nullable = true)\n |-- percentofiosusers: decimal(10,2) (nullable = true)\n |-- meanseniority: decimal(10,2) (nullable = true)\n\n"
     ]
    }
   ],
   "source": [
    "# Define the schema with columns and their target types\n",
    "columns_to_cast = {\n",
    "    \"country\": \"string\",\n",
    "    \"sex\": \"string\",\n",
    "    \"nbsellers\": \"integer\",\n",
    "    \"meanproductssold\": \"decimal(10, 2)\",  # Adjust precision and scale as needed\n",
    "    \"meanproductslisted\": \"decimal(10, 2)\",\n",
    "    \"meansellerpassrate\": \"decimal(10, 2)\",\n",
    "    \"totalproductssold\": \"integer\",\n",
    "    \"totalproductslisted\": \"integer\",\n",
    "    \"meanproductsbought\": \"decimal(10, 2)\",\n",
    "    \"meanproductswished\": \"decimal(10, 2)\",\n",
    "    \"meanproductsliked\": \"decimal(10, 2)\",\n",
    "    \"totalbought\": \"integer\",\n",
    "    \"totalwished\": \"integer\",\n",
    "    \"totalproductsliked\": \"integer\",\n",
    "    \"meanfollowers\": \"decimal(10, 2)\",\n",
    "    \"meanfollows\": \"decimal(10, 2)\",\n",
    "    \"percentofappusers\": \"decimal(10, 2)\",\n",
    "    \"percentofiosusers\": \"decimal(10, 2)\",\n",
    "    \"meanseniority\": \"decimal(10, 2)\"\n",
    "}\n",
    "\n",
    "# Construct a list of SQL-style casting expressions\n",
    "cast_expressions = [f\"CAST({col} AS {dtype}) AS {col}\" for col, dtype in columns_to_cast.items()]\n",
    "\n",
    "# Apply all casts using selectExpr\n",
    "sellersDf = sellersDf.selectExpr(*cast_expressions)\n",
    "\n",
    "# Show the schema and data to verify\n",
    "sellersDf.printSchema()\n",
    "\n"
   ]
  },
  {
   "cell_type": "code",
   "execution_count": 0,
   "metadata": {
    "application/vnd.databricks.v1+cell": {
     "cellMetadata": {
      "byteLimit": 2048000,
      "rowLimit": 10000
     },
     "inputWidgets": {},
     "nuid": "8c6c2778-ebe4-4cca-9c85-01cb37bad540",
     "showTitle": false,
     "title": ""
    }
   },
   "outputs": [],
   "source": [
    "# Normalize country names and gender values\n",
    "sellersDf = sellersDf.withColumn(\"country\",initcap(col(\"country\")))\\\n",
    "    .withColumn(\"sex\",upper(col(\"sex\")))\n",
    "\n",
    "# Add a column to categorize the number of sellers \n",
    "sellersDf = sellersDf.withColumn(\"seller_size_category\",\n",
    "                                 when(col(\"nbsellers\")<500,\"Small\") \\\n",
    "                                 .when((col(\"nbsellers\")>=500) & (col(\"nbsellers\")<2000),\"Medium\")\\\n",
    "                                     .otherwise(\"Large\")\n",
    "                                )\n",
    "\n",
    "# Calculate the mean products listed per seller as an indicator of seller activity\n",
    "sellersDf = sellersDf.withColumn(\"mean_products_listed_per_seller\",\n",
    "                                 round(col(\"totalproductslisted\") / col(\"nbsellers\"),2)\n",
    "                                 )\n",
    "\n",
    "\n",
    "# Identity markets with higher seller pass rate \n",
    "\n",
    "sellersDf = sellersDf.withColumn(\"high_sellers_pass_rate\",\n",
    "                                 when(col(\"meansellerpassrate\") > 0.75,\"High\")\\\n",
    "                                     .otherwise(\"Normal\")\n",
    "                                 )\n",
    "\n",
    "\n",
    "mean_pass_rate = sellersDf.select(round(avg(\"meansellerpassrate\"),2).alias(\"avg_pass_rate\")).collect()[0][\"avg_pass_rate\"]\n",
    "\n",
    "sellersDf = sellersDf.withColumn(\"meansellerpassrate\",\n",
    "                                 when(col(\"meansellerpassrate\").isNull(),mean_pass_rate).otherwise(col(\"meansellerpassrate\"))\n",
    "                                 )\n",
    "\n"
   ]
  },
  {
   "cell_type": "code",
   "execution_count": 0,
   "metadata": {
    "application/vnd.databricks.v1+cell": {
     "cellMetadata": {
      "byteLimit": 2048000,
      "rowLimit": 10000
     },
     "inputWidgets": {},
     "nuid": "7e579392-3d58-41ca-a315-9a8d976b114d",
     "showTitle": false,
     "title": ""
    }
   },
   "outputs": [],
   "source": [
    "sellersDf.write.format(\"delta\").mode(\"overwrite\").save(\"/mnt/delta/tables/silver/sellers\")"
   ]
  },
  {
   "cell_type": "code",
   "execution_count": 0,
   "metadata": {
    "application/vnd.databricks.v1+cell": {
     "cellMetadata": {
      "byteLimit": 2048000,
      "rowLimit": 10000
     },
     "inputWidgets": {},
     "nuid": "183b6eeb-8faa-44c1-bfc4-14e280587cc9",
     "showTitle": false,
     "title": ""
    }
   },
   "outputs": [],
   "source": [
    "# Country\n",
    "countriesDf = spark.read.format(\"delta\").load(\"/mnt/delta/tables/bronze/countries\")"
   ]
  },
  {
   "cell_type": "code",
   "execution_count": 0,
   "metadata": {
    "application/vnd.databricks.v1+cell": {
     "cellMetadata": {
      "byteLimit": 2048000,
      "rowLimit": 10000
     },
     "inputWidgets": {},
     "nuid": "71d24988-af1d-4278-bde6-aaaa0bd7844a",
     "showTitle": false,
     "title": ""
    }
   },
   "outputs": [
    {
     "output_type": "stream",
     "name": "stdout",
     "output_type": "stream",
     "text": [
      "root\n |-- country: string (nullable = true)\n |-- sellers: integer (nullable = true)\n |-- topsellers: integer (nullable = true)\n |-- topsellerratio: decimal(10,2) (nullable = true)\n |-- femalesellersratio: decimal(10,2) (nullable = true)\n |-- topfemalesellersratio: decimal(10,2) (nullable = true)\n |-- femalesellers: integer (nullable = true)\n |-- malesellers: integer (nullable = true)\n |-- topfemalesellers: integer (nullable = true)\n |-- topmalesellers: integer (nullable = true)\n |-- countrysoldratio: decimal(10,2) (nullable = true)\n |-- bestsoldratio: decimal(10,2) (nullable = true)\n |-- toptotalproductssold: integer (nullable = true)\n |-- totalproductssold: integer (nullable = true)\n |-- toptotalproductslisted: integer (nullable = true)\n |-- totalproductslisted: integer (nullable = true)\n |-- topmeanproductssold: decimal(10,2) (nullable = true)\n |-- topmeanproductslisted: decimal(10,2) (nullable = true)\n |-- meanproductssold: decimal(10,2) (nullable = true)\n |-- meanproductslisted: decimal(10,2) (nullable = true)\n |-- meanofflinedays: decimal(10,2) (nullable = true)\n |-- topmeanofflinedays: decimal(10,2) (nullable = true)\n |-- meanfollowers: decimal(10,2) (nullable = true)\n |-- meanfollowing: decimal(10,2) (nullable = true)\n |-- topmeanfollowers: decimal(10,2) (nullable = true)\n |-- topmeanfollowing: decimal(10,2) (nullable = true)\n\n"
     ]
    }
   ],
   "source": [
    "# Define the schema with columns and their target types\n",
    "columns_to_cast = {\n",
    "    \"country\": \"string\",\n",
    "    \"sellers\": \"integer\",\n",
    "    \"topsellers\": \"integer\",\n",
    "    \"topsellerratio\": \"decimal(10, 2)\",  # Adjust precision and scale as needed\n",
    "    \"femalesellersratio\": \"decimal(10, 2)\",\n",
    "    \"topfemalesellersratio\": \"decimal(10, 2)\",\n",
    "    \"femalesellers\": \"integer\",\n",
    "    \"malesellers\": \"integer\",\n",
    "    \"topfemalesellers\": \"integer\",\n",
    "    \"topmalesellers\": \"integer\",\n",
    "    \"countrysoldratio\": \"decimal(10, 2)\",\n",
    "    \"bestsoldratio\": \"decimal(10, 2)\",\n",
    "    \"toptotalproductssold\": \"integer\",\n",
    "    \"totalproductssold\": \"integer\",\n",
    "    \"toptotalproductslisted\": \"integer\",\n",
    "    \"totalproductslisted\": \"integer\",\n",
    "    \"topmeanproductssold\": \"decimal(10, 2)\",\n",
    "    \"topmeanproductslisted\": \"decimal(10, 2)\",\n",
    "    \"meanproductssold\": \"decimal(10, 2)\",\n",
    "    \"meanproductslisted\": \"decimal(10, 2)\",\n",
    "    \"meanofflinedays\": \"decimal(10, 2)\",\n",
    "    \"topmeanofflinedays\": \"decimal(10, 2)\",\n",
    "    \"meanfollowers\": \"decimal(10, 2)\",\n",
    "    \"meanfollowing\": \"decimal(10, 2)\",\n",
    "    \"topmeanfollowers\": \"decimal(10, 2)\",\n",
    "    \"topmeanfollowing\": \"decimal(10, 2)\"\n",
    "}\n",
    "\n",
    "# Construct SQL-style casting expressions\n",
    "cast_expressions = [f\"CAST({col} AS {dtype}) AS {col}\" for col, dtype in columns_to_cast.items()]\n",
    "\n",
    "# Apply all casts using selectExpr\n",
    "countriesDf = countriesDf.selectExpr(*cast_expressions)\n",
    "\n",
    "# Show the schema and data to verify\n",
    "countriesDf.printSchema()\n",
    "\n"
   ]
  },
  {
   "cell_type": "code",
   "execution_count": 0,
   "metadata": {
    "application/vnd.databricks.v1+cell": {
     "cellMetadata": {
      "byteLimit": 2048000,
      "rowLimit": 10000
     },
     "inputWidgets": {},
     "nuid": "95f98b2f-ae34-4455-be19-8148f2c1479f",
     "showTitle": false,
     "title": ""
    }
   },
   "outputs": [],
   "source": [
    "countriesDf = countriesDf.withColumn(\"country\", initcap(col(\"country\")))\n",
    "\n",
    "# Calculating the ration of top sellers to total sellers\n",
    "countriesDf = countriesDf.withColumn(\"top_seller_ratio\", round(col(\"topsellers\") / col(\"sellers\"),2))\n",
    "\n",
    "# countries with high ration of female sellers\n",
    "countriesDf = countriesDf.withColumn(\"high_female_seller_ration\",\n",
    "                                     when(col(\"femalesellersratio\") > 0.5, True).otherwise(False))\n",
    "                                    \n",
    "\n",
    "# Adding a performance indicator based on the sold/listed ratio\n",
    "countriesDf = countriesDf.withColumn(\"performance_indicator\",\n",
    "                                     round(col(\"totalproductssold\") / (col(\"totalproductslisted\")+1),2))\n",
    "\n",
    "\n",
    "# Flag countries with exceptionally high performance \n",
    "performance_thresold = 0.8\n",
    "countriesDf = countriesDf.withColumn(\"high_performance\",\n",
    "                                     when(col(\"performance_indicator\") > performance_thresold, True).otherwise(False))\n",
    "\n",
    "countriesDf = countriesDf.withColumn(\"activity_level\",\n",
    "                                     when(col(\"meanofflinedays\") < 30, \"Highly Active\")\n",
    "                                     .when((col(\"meanofflinedays\") >=30) & (col(\"meanofflinedays\") < 60), \"Moderately Active\")\n",
    "                                     .otherwise(\"Low Activity\"))\n",
    "\n",
    "\n",
    "countriesDf.write.format(\"delta\").mode(\"overwrite\").save(\"/mnt/delta/tables/silver/countries\")\n",
    "                                                               "
   ]
  },
  {
   "cell_type": "code",
   "execution_count": 0,
   "metadata": {
    "application/vnd.databricks.v1+cell": {
     "cellMetadata": {},
     "inputWidgets": {},
     "nuid": "89fe7d2f-ccb8-49a1-8935-814feed4e410",
     "showTitle": false,
     "title": ""
    }
   },
   "outputs": [],
   "source": []
  }
 ],
 "metadata": {
  "application/vnd.databricks.v1+notebook": {
   "dashboards": [],
   "environmentMetadata": {
    "base_environment": "",
    "client": "1"
   },
   "language": "python",
   "notebookMetadata": {
    "pythonIndentUnit": 4
   },
   "notebookName": "Silver_Layer 2024-09-11 00:05:34",
   "widgets": {}
  }
 },
 "nbformat": 4,
 "nbformat_minor": 0
}
